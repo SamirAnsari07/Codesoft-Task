{
  "nbformat": 4,
  "nbformat_minor": 0,
  "metadata": {
    "colab": {
      "provenance": [],
      "authorship_tag": "ABX9TyP3mz1ANEzHnI80KjSJIPd7",
      "include_colab_link": true
    },
    "kernelspec": {
      "name": "python3",
      "display_name": "Python 3"
    },
    "language_info": {
      "name": "python"
    }
  },
  "cells": [
    {
      "cell_type": "markdown",
      "metadata": {
        "id": "view-in-github",
        "colab_type": "text"
      },
      "source": [
        "<a href=\"https://colab.research.google.com/github/SamirAnsari07/Codesoft-Task/blob/main/CodeSoft_Task_4.ipynb\" target=\"_parent\"><img src=\"https://colab.research.google.com/assets/colab-badge.svg\" alt=\"Open In Colab\"/></a>"
      ]
    },
    {
      "cell_type": "markdown",
      "source": [
        "# Credit Card Fraud Detection"
      ],
      "metadata": {
        "id": "rjMXvt_SXXed"
      }
    },
    {
      "cell_type": "code",
      "source": [
        "import pandas as pd\n",
        "import numpy as np\n",
        "import matplotlib.pyplot as plt\n",
        "import seaborn as sns\n",
        "from sklearn.model_selection import train_test_split\n",
        "from sklearn.preprocessing import StandardScaler\n",
        "from sklearn.ensemble import RandomForestClassifier\n",
        "from sklearn.metrics import confusion_matrix, classification_report\n",
        "from imblearn.over_sampling import SMOTE"
      ],
      "metadata": {
        "id": "qf1h_Pi1Snmd"
      },
      "execution_count": 36,
      "outputs": []
    },
    {
      "cell_type": "code",
      "source": [
        "\n",
        "# Load the dataset\n",
        "try:\n",
        "    # Update the file path to the correct location and specify parameters\n",
        "    df = pd.read_csv('/content/CreditCard.csv.txt', sep=',', engine='python')\n",
        "    print(\"Dataset loaded successfully.\")\n",
        "except FileNotFoundError:\n",
        "    print(\"Error: '/content/CreditCard.csv.txt' not found. Please make sure the file is in the correct directory.\")\n",
        "    # You might want to exit or provide instructions to the user here.\n",
        "    # exit() # Removed exit() to allow subsequent cells to run and show potential errors\n",
        "except Exception as e:\n",
        "    print(f\"An error occurred while reading the file: {e}\")"
      ],
      "metadata": {
        "colab": {
          "base_uri": "https://localhost:8080/"
        },
        "id": "qgOE5eWSSx9o",
        "outputId": "f743e17f-51bd-4d93-fa5e-d33731208c6f"
      },
      "execution_count": 37,
      "outputs": [
        {
          "output_type": "stream",
          "name": "stdout",
          "text": [
            "Dataset loaded successfully.\n"
          ]
        }
      ]
    },
    {
      "cell_type": "code",
      "source": [
        "\n",
        "# Display the first 5 rows of the dataset\n",
        "print(\"\\nFirst 5 rows of the dataset:\")\n",
        "print(df.head())"
      ],
      "metadata": {
        "colab": {
          "base_uri": "https://localhost:8080/"
        },
        "id": "Rm3lJ9KTS07C",
        "outputId": "6025810e-b0e2-43bc-b7eb-abdc89e3ce4e"
      },
      "execution_count": 38,
      "outputs": [
        {
          "output_type": "stream",
          "name": "stdout",
          "text": [
            "\n",
            "First 5 rows of the dataset:\n",
            "   Time    V1    V2    V3    V4    V5    V6    V7    V8    V9  ...   V21  \\\n",
            "0     0  0.10  0.20  0.30  0.40  0.50  0.60  0.70  0.80  0.90  ...  2.10   \n",
            "1     1  0.05  0.15  0.25  0.35  0.45  0.55  0.65  0.75  0.85  ...  2.05   \n",
            "2     2  1.00  1.10  1.20  1.30  1.40  1.50  1.60  1.70  1.80  ...  3.00   \n",
            "3     3  0.01  0.02  0.03  0.04  0.05  0.06  0.07  0.08  0.09  ...  0.21   \n",
            "4     4 -1.00 -1.10 -1.20 -1.30 -1.40 -1.50 -1.60 -1.70 -1.80  ... -3.00   \n",
            "\n",
            "    V22   V23   V24   V25   V26   V27   V28  Amount  Class  \n",
            "0  2.20  2.30  2.40  2.50  2.60  2.70  2.80   100.0      0  \n",
            "1  2.15  2.25  2.35  2.45  2.55  2.65  2.75    50.0      0  \n",
            "2  3.10  3.20  3.30  3.40  3.50  3.60  3.70   200.0      0  \n",
            "3  0.22  0.23  0.24  0.25  0.26  0.27  0.28    10.0      0  \n",
            "4 -3.10 -3.20 -3.30 -3.40 -3.50 -3.60 -3.70     1.0      1  \n",
            "\n",
            "[5 rows x 31 columns]\n"
          ]
        }
      ]
    },
    {
      "cell_type": "code",
      "source": [
        "# Get information about the dataset\n",
        "print(\"\\nDataset Info:\")\n",
        "df.info()"
      ],
      "metadata": {
        "colab": {
          "base_uri": "https://localhost:8080/"
        },
        "id": "bFbQsSjdS4KK",
        "outputId": "4b60d009-194b-420a-c8f1-de636898bd51"
      },
      "execution_count": 39,
      "outputs": [
        {
          "output_type": "stream",
          "name": "stdout",
          "text": [
            "\n",
            "Dataset Info:\n",
            "<class 'pandas.core.frame.DataFrame'>\n",
            "RangeIndex: 6 entries, 0 to 5\n",
            "Data columns (total 31 columns):\n",
            " #   Column  Non-Null Count  Dtype  \n",
            "---  ------  --------------  -----  \n",
            " 0   Time    6 non-null      int64  \n",
            " 1   V1      6 non-null      float64\n",
            " 2   V2      6 non-null      float64\n",
            " 3   V3      6 non-null      float64\n",
            " 4   V4      6 non-null      float64\n",
            " 5   V5      6 non-null      float64\n",
            " 6   V6      6 non-null      float64\n",
            " 7   V7      6 non-null      float64\n",
            " 8   V8      6 non-null      float64\n",
            " 9   V9      6 non-null      float64\n",
            " 10  V10     6 non-null      float64\n",
            " 11  V11     6 non-null      float64\n",
            " 12  V12     6 non-null      float64\n",
            " 13  V13     6 non-null      float64\n",
            " 14  V14     6 non-null      float64\n",
            " 15  V15     6 non-null      float64\n",
            " 16  V16     6 non-null      float64\n",
            " 17  V17     6 non-null      float64\n",
            " 18  V18     6 non-null      float64\n",
            " 19  V19     6 non-null      float64\n",
            " 20  V20     6 non-null      float64\n",
            " 21  V21     6 non-null      float64\n",
            " 22  V22     6 non-null      float64\n",
            " 23  V23     6 non-null      float64\n",
            " 24  V24     6 non-null      float64\n",
            " 25  V25     6 non-null      float64\n",
            " 26  V26     6 non-null      float64\n",
            " 27  V27     6 non-null      float64\n",
            " 28  V28     6 non-null      float64\n",
            " 29  Amount  6 non-null      float64\n",
            " 30  Class   6 non-null      int64  \n",
            "dtypes: float64(29), int64(2)\n",
            "memory usage: 1.6 KB\n"
          ]
        }
      ]
    },
    {
      "cell_type": "code",
      "source": [
        "# Check for missing values\n",
        "print(\"\\nMissing values per column:\")\n",
        "print(df.isnull().sum())"
      ],
      "metadata": {
        "colab": {
          "base_uri": "https://localhost:8080/"
        },
        "id": "gMJUpFOQS7Qn",
        "outputId": "b0cfa4a2-d210-4824-c3c8-b299174aee4e"
      },
      "execution_count": 40,
      "outputs": [
        {
          "output_type": "stream",
          "name": "stdout",
          "text": [
            "\n",
            "Missing values per column:\n",
            "Time      0\n",
            "V1        0\n",
            "V2        0\n",
            "V3        0\n",
            "V4        0\n",
            "V5        0\n",
            "V6        0\n",
            "V7        0\n",
            "V8        0\n",
            "V9        0\n",
            "V10       0\n",
            "V11       0\n",
            "V12       0\n",
            "V13       0\n",
            "V14       0\n",
            "V15       0\n",
            "V16       0\n",
            "V17       0\n",
            "V18       0\n",
            "V19       0\n",
            "V20       0\n",
            "V21       0\n",
            "V22       0\n",
            "V23       0\n",
            "V24       0\n",
            "V25       0\n",
            "V26       0\n",
            "V27       0\n",
            "V28       0\n",
            "Amount    0\n",
            "Class     0\n",
            "dtype: int64\n"
          ]
        }
      ]
    },
    {
      "cell_type": "code",
      "source": [
        "# Display descriptive statistics\n",
        "print(\"\\nDescriptive statistics:\")\n",
        "print(df.describe())"
      ],
      "metadata": {
        "colab": {
          "base_uri": "https://localhost:8080/"
        },
        "id": "x4fJTc2bTAAL",
        "outputId": "08083c90-34d5-4c3e-9a18-30a8d81ad8a2"
      },
      "execution_count": 41,
      "outputs": [
        {
          "output_type": "stream",
          "name": "stdout",
          "text": [
            "\n",
            "Descriptive statistics:\n",
            "           Time        V1        V2        V3        V4        V5        V6  \\\n",
            "count  6.000000  6.000000  6.000000  6.000000  6.000000  6.000000  6.000000   \n",
            "mean   2.500000 -0.056667 -0.038333 -0.020000 -0.001667  0.016667  0.035000   \n",
            "std    1.870829  0.669826  0.752872  0.839166  0.927802  1.018168  1.109842   \n",
            "min    0.000000 -1.000000 -1.100000 -1.200000 -1.300000 -1.400000 -1.500000   \n",
            "25%    1.250000 -0.372500 -0.445000 -0.517500 -0.590000 -0.662500 -0.735000   \n",
            "50%    2.500000  0.030000  0.085000  0.140000  0.195000  0.250000  0.305000   \n",
            "75%    3.750000  0.087500  0.187500  0.287500  0.387500  0.487500  0.587500   \n",
            "max    5.000000  1.000000  1.100000  1.200000  1.300000  1.400000  1.500000   \n",
            "\n",
            "             V7        V8        V9  ...       V21       V22       V23  \\\n",
            "count  6.000000  6.000000  6.000000  ...  6.000000  6.000000  6.000000   \n",
            "mean   0.053333  0.071667  0.090000  ...  0.310000  0.328333  0.346667   \n",
            "std    1.202525  1.296000  1.390108  ...  2.542833  2.639852  2.736945   \n",
            "min   -1.600000 -1.700000 -1.800000  ... -3.000000 -3.100000 -3.200000   \n",
            "25%   -0.807500 -0.880000 -0.952500  ... -1.822500 -1.895000 -1.967500   \n",
            "50%    0.360000  0.415000  0.470000  ...  1.130000  1.185000  1.240000   \n",
            "75%    0.687500  0.787500  0.887500  ...  2.087500  2.187500  2.287500   \n",
            "max    1.600000  1.700000  1.800000  ...  3.000000  3.100000  3.200000   \n",
            "\n",
            "            V24       V25       V26       V27       V28      Amount     Class  \n",
            "count  6.000000  6.000000  6.000000  6.000000  6.000000    6.000000  6.000000  \n",
            "mean   0.365000  0.383333  0.401667  0.420000  0.438333   61.000000  0.333333  \n",
            "std    2.834105  2.931325  3.028600  3.125924  3.223293   77.846002  0.516398  \n",
            "min   -3.300000 -3.400000 -3.500000 -3.600000 -3.700000    1.000000  0.000000  \n",
            "25%   -2.040000 -2.112500 -2.185000 -2.257500 -2.330000    6.250000  0.000000  \n",
            "50%    1.295000  1.350000  1.405000  1.460000  1.515000   30.000000  0.000000  \n",
            "75%    2.387500  2.487500  2.587500  2.687500  2.787500   87.500000  0.750000  \n",
            "max    3.300000  3.400000  3.500000  3.600000  3.700000  200.000000  1.000000  \n",
            "\n",
            "[8 rows x 31 columns]\n"
          ]
        }
      ]
    },
    {
      "cell_type": "code",
      "source": [
        "# Visualize the distribution of the target variable 'Class'\n",
        "print(\"\\nClass Distribution:\")\n",
        "print(df['Class'].value_counts())\n",
        "sns.countplot(x='Class', data=df)\n",
        "plt.title('Class Distribution (0: Non-Fraud, 1: Fraud)')\n",
        "plt.show()\n"
      ],
      "metadata": {
        "colab": {
          "base_uri": "https://localhost:8080/",
          "height": 576
        },
        "id": "NqzWpdduTEge",
        "outputId": "0767fc67-8beb-42ce-cb8a-c8ac0d30f270"
      },
      "execution_count": 42,
      "outputs": [
        {
          "output_type": "stream",
          "name": "stdout",
          "text": [
            "\n",
            "Class Distribution:\n",
            "Class\n",
            "0    4\n",
            "1    2\n",
            "Name: count, dtype: int64\n"
          ]
        },
        {
          "output_type": "display_data",
          "data": {
            "text/plain": [
              "<Figure size 640x480 with 1 Axes>"
            ],
            "image/png": "[encoded data removed]"
          },
          "metadata": {}
        }
      ]
    },
    {
      "cell_type": "code",
      "source": [
        "# Separate features and target variable\n",
        "X = df.drop('Class', axis=1)\n",
        "y = df['Class']"
      ],
      "metadata": {
        "id": "OOHnhbU8TEQi"
      },
      "execution_count": 43,
      "outputs": []
    },
    {
      "cell_type": "code",
      "source": [
        "# Scale 'Amount' and 'Time' features as they have different scales\n",
        "scaler = StandardScaler()\n",
        "X[['Amount', 'Time']] = scaler.fit_transform(X[['Amount', 'Time']])"
      ],
      "metadata": {
        "id": "JC_xz70tTN-n"
      },
      "execution_count": 44,
      "outputs": []
    },
    {
      "cell_type": "code",
      "source": [
        "# Split the dataset into training and testing sets\n",
        "X_train, X_test, y_train, y_test = train_test_split(X, y, test_size=0.2, random_state=42, stratify=y)\n",
        "\n",
        "print(f\"\\nTraining set shape: {X_train.shape}\")\n",
        "print(f\"Testing set shape: {X_test.shape}\")\n",
        "print(f\"Training set class distribution:\\n{y_train.value_counts()}\")\n",
        "print(f\"Testing set class distribution:\\n{y_test.value_counts()}\")"
      ],
      "metadata": {
        "colab": {
          "base_uri": "https://localhost:8080/"
        },
        "id": "dOVOwKIhTNzX",
        "outputId": "e8a0cf50-f935-4f65-d0c8-53c421f87ba9"
      },
      "execution_count": 45,
      "outputs": [
        {
          "output_type": "stream",
          "name": "stdout",
          "text": [
            "\n",
            "Training set shape: (4, 30)\n",
            "Testing set shape: (2, 30)\n",
            "Training set class distribution:\n",
            "Class\n",
            "0    3\n",
            "1    1\n",
            "Name: count, dtype: int64\n",
            "Testing set class distribution:\n",
            "Class\n",
            "1    1\n",
            "0    1\n",
            "Name: count, dtype: int64\n"
          ]
        }
      ]
    },
    {
      "cell_type": "code",
      "source": [
        "from imblearn.over_sampling import SMOTE, RandomOverSampler\n",
        "from collections import Counter\n",
        "\n",
        "# Check how many samples are in each class\n",
        "class_counts = Counter(y_train)\n",
        "print(\"Original class distribution:\", class_counts)\n",
        "\n",
        "# Get the size of the minority class\n",
        "minority_class_count = class_counts[min(class_counts, key=class_counts.get)]\n",
        "\n",
        "# If enough samples, use SMOTE. Else, use RandomOverSampler.\n",
        "if minority_class_count > 1:\n",
        "    print(\"\\nApplying SMOTE to handle class imbalance...\")\n",
        "    smote = SMOTE(random_state=42, k_neighbors=1) # k_neighbors=1 might still be needed for very small counts > 1\n",
        "    X_train_resampled, y_train_resampled = smote.fit_resample(X_train, y_train)\n",
        "else:\n",
        "    print(\"\\nNot enough samples for SMOTE. Using RandomOverSampler instead...\")\n",
        "    ros = RandomOverSampler(random_state=42)\n",
        "    X_train_resampled, y_train_resampled = ros.fit_resample(X_train, y_train)\n",
        "\n",
        "# Show result\n",
        "print(f\"\\nTraining set shape after resampling: {X_train_resampled.shape}\")\n",
        "print(f\"Training set class distribution after resampling:\\n{Counter(y_train_resampled)}\")"
      ],
      "metadata": {
        "colab": {
          "base_uri": "https://localhost:8080/"
        },
        "id": "EpnA9A4ZWWul",
        "outputId": "0b1bc39c-caa9-4a8b-a72e-095ef35b2587"
      },
      "execution_count": 46,
      "outputs": [
        {
          "output_type": "stream",
          "name": "stdout",
          "text": [
            "Original class distribution: Counter({0: 3, 1: 1})\n",
            "\n",
            "Not enough samples for SMOTE. Using RandomOverSampler instead...\n",
            "\n",
            "Training set shape after resampling: (6, 30)\n",
            "Training set class distribution after resampling:\n",
            "Counter({0: 3, 1: 3})\n"
          ]
        }
      ]
    },
    {
      "cell_type": "code",
      "source": [
        "print(y_train.value_counts())\n"
      ],
      "metadata": {
        "colab": {
          "base_uri": "https://localhost:8080/"
        },
        "id": "xYs9MLS59uRH",
        "outputId": "49f390ac-c40d-4f82-95eb-459a205a19f4"
      },
      "execution_count": 47,
      "outputs": [
        {
          "output_type": "stream",
          "name": "stdout",
          "text": [
            "Class\n",
            "0    3\n",
            "1    1\n",
            "Name: count, dtype: int64\n"
          ]
        }
      ]
    },
    {
      "cell_type": "code",
      "source": [
        "print(f\"\\nTraining set shape after resampling: {X_train_resampled.shape}\")\n",
        "print(f\"Training set class distribution after resampling:\\n{Counter(y_train_resampled)}\")"
      ],
      "metadata": {
        "colab": {
          "base_uri": "https://localhost:8080/"
        },
        "id": "y_IuK5RN-q61",
        "outputId": "b44262f2-5885-47df-d618-d0498e847e0a"
      },
      "execution_count": 48,
      "outputs": [
        {
          "output_type": "stream",
          "name": "stdout",
          "text": [
            "\n",
            "Training set shape after resampling: (6, 30)\n",
            "Training set class distribution after resampling:\n",
            "Counter({0: 3, 1: 3})\n"
          ]
        }
      ]
    },
    {
      "cell_type": "code",
      "source": [
        "print(\"\\nNot enough samples for SMOTE. Using RandomOverSampler instead...\")\n",
        "ros = RandomOverSampler(random_state=42)\n",
        "X_train_resampled, y_train_resampled = ros.fit_resample(X_train, y_train)"
      ],
      "metadata": {
        "colab": {
          "base_uri": "https://localhost:8080/"
        },
        "id": "LmkYfQhe-zrf",
        "outputId": "9f15fc1e-b9d0-4b5f-9e38-ad74940de9e2"
      },
      "execution_count": 49,
      "outputs": [
        {
          "output_type": "stream",
          "name": "stdout",
          "text": [
            "\n",
            "Not enough samples for SMOTE. Using RandomOverSampler instead...\n"
          ]
        }
      ]
    },
    {
      "cell_type": "code",
      "source": [
        "from imblearn.over_sampling import SMOTE, RandomOverSampler\n",
        "from collections import Counter\n",
        "\n",
        "# Check the class distribution in the training set\n",
        "class_counts = Counter(y_train)\n",
        "minority_class_count = min(class_counts.values())\n",
        "\n",
        "# Safely handle class imbalance\n",
        "if minority_class_count > 1:\n",
        "    print(\"\\nApplying SMOTE to handle class imbalance...\")\n",
        "    smote = SMOTE(random_state=42, k_neighbors=1)\n",
        "    X_train_resampled, y_train_resampled = smote.fit_resample(X_train, y_train)\n",
        "else:\n",
        "    print(\"\\nToo few samples in minority class for SMOTE. Using RandomOverSampler instead...\")\n",
        "    ros = RandomOverSampler(random_state=42)\n",
        "    X_train_resampled, y_train_resampled = ros.fit_resample(X_train, y_train)\n",
        "\n",
        "# Output the new training set shape and class distribution\n",
        "print(f\"\\nTraining set shape after resampling: {X_train_resampled.shape}\")\n",
        "print(f\"Training set class distribution after resampling:\\n{y_train_resampled.value_counts()}\")\n",
        "\n"
      ],
      "metadata": {
        "colab": {
          "base_uri": "https://localhost:8080/"
        },
        "id": "yWxiRwxWTkzz",
        "outputId": "816bca8b-7cc4-4890-8d65-e4f832a729ac"
      },
      "execution_count": 50,
      "outputs": [
        {
          "output_type": "stream",
          "name": "stdout",
          "text": [
            "\n",
            "Too few samples in minority class for SMOTE. Using RandomOverSampler instead...\n",
            "\n",
            "Training set shape after resampling: (6, 30)\n",
            "Training set class distribution after resampling:\n",
            "Class\n",
            "0    3\n",
            "1    3\n",
            "Name: count, dtype: int64\n"
          ]
        }
      ]
    },
    {
      "cell_type": "code",
      "source": [
        "y_train.value_counts()\n",
        "\n",
        "# Output:\n",
        "# Majority class (e.g., 0): 100\n",
        "# Minority class (e.g., 1): 1  👈 Too few samples\n"
      ],
      "metadata": {
        "colab": {
          "base_uri": "https://localhost:8080/",
          "height": 178
        },
        "id": "lJAvfqfmVUNp",
        "outputId": "38eb80ab-8cef-4334-d8c4-cfd51a9c79d5"
      },
      "execution_count": 51,
      "outputs": [
        {
          "output_type": "execute_result",
          "data": {
            "text/plain": [
              "Class\n",
              "0    3\n",
              "1    1\n",
              "Name: count, dtype: int64"
            ],
            "text/html": [
              "<div>\n",
              "<style scoped>\n",
              "    .dataframe tbody tr th:only-of-type {\n",
              "        vertical-align: middle;\n",
              "    }\n",
              "\n",
              "    .dataframe tbody tr th {\n",
              "        vertical-align: top;\n",
              "    }\n",
              "\n",
              "    .dataframe thead th {\n",
              "        text-align: right;\n",
              "    }\n",
              "</style>\n",
              "<table border=\"1\" class=\"dataframe\">\n",
              "  <thead>\n",
              "    <tr style=\"text-align: right;\">\n",
              "      <th></th>\n",
              "      <th>count</th>\n",
              "    </tr>\n",
              "    <tr>\n",
              "      <th>Class</th>\n",
              "      <th></th>\n",
              "    </tr>\n",
              "  </thead>\n",
              "  <tbody>\n",
              "    <tr>\n",
              "      <th>0</th>\n",
              "      <td>3</td>\n",
              "    </tr>\n",
              "    <tr>\n",
              "      <th>1</th>\n",
              "      <td>1</td>\n",
              "    </tr>\n",
              "  </tbody>\n",
              "</table>\n",
              "</div><br><label><b>dtype:</b> int64</label>"
            ]
          },
          "metadata": {},
          "execution_count": 51
        }
      ]
    },
    {
      "cell_type": "code",
      "source": [
        "from imblearn.over_sampling import RandomOverSampler\n",
        "\n",
        "ros = RandomOverSampler(random_state=42)\n",
        "X_train_resampled, y_train_resampled = ros.fit_resample(X_train, y_train)\n"
      ],
      "metadata": {
        "id": "zQXfcjewVYjj"
      },
      "execution_count": 52,
      "outputs": []
    },
    {
      "cell_type": "code",
      "source": [
        "from collections import Counter\n",
        "from imblearn.over_sampling import SMOTE, RandomOverSampler\n",
        "\n",
        "print(\"\\nOriginal class distribution:\", Counter(y_train))\n",
        "\n",
        "# Try SMOTE if there are enough samples\n",
        "if Counter(y_train).most_common()[-1][1] > 1:\n",
        "    print(\"Applying SMOTE...\")\n",
        "    smote = SMOTE(random_state=42, k_neighbors=1)\n",
        "    X_train_resampled, y_train_resampled = smote.fit_resample(X_train, y_train)\n",
        "else:\n",
        "    print(\"Not enough samples for SMOTE. Falling back to RandomOverSampler...\")\n",
        "    ros = RandomOverSampler(random_state=42)\n",
        "    X_train_resampled, y_train_resampled = ros.fit_resample(X_train, y_train)\n",
        "\n",
        "print(f\"Training set shape after resampling: {X_train_resampled.shape}\")\n",
        "print(f\"Training set class distribution after resampling:\\n{Counter(y_train_resampled)}\")\n"
      ],
      "metadata": {
        "colab": {
          "base_uri": "https://localhost:8080/"
        },
        "id": "iDhxogBlU_1O",
        "outputId": "60334bb2-e4ef-4189-b399-ea46b567f284"
      },
      "execution_count": 53,
      "outputs": [
        {
          "output_type": "stream",
          "name": "stdout",
          "text": [
            "\n",
            "Original class distribution: Counter({0: 3, 1: 1})\n",
            "Not enough samples for SMOTE. Falling back to RandomOverSampler...\n",
            "Training set shape after resampling: (6, 30)\n",
            "Training set class distribution after resampling:\n",
            "Counter({0: 3, 1: 3})\n"
          ]
        }
      ]
    },
    {
      "cell_type": "code",
      "source": [
        "# Train a Random Forest Classifier\n",
        "print(\"\\nTraining Random Forest Classifier...\")\n",
        "model = RandomForestClassifier(n_estimators=100, random_state=42)\n",
        "model.fit(X_train_resampled, y_train_resampled)\n",
        "print(\"Model training complete.\")"
      ],
      "metadata": {
        "colab": {
          "base_uri": "https://localhost:8080/"
        },
        "id": "ueisRqdRTkpK",
        "outputId": "b4fc9925-43f4-47cc-c6ec-4129f6f5dab0"
      },
      "execution_count": 54,
      "outputs": [
        {
          "output_type": "stream",
          "name": "stdout",
          "text": [
            "\n",
            "Training Random Forest Classifier...\n",
            "Model training complete.\n"
          ]
        }
      ]
    },
    {
      "cell_type": "code",
      "source": [
        "\n",
        "\n",
        "# Evaluate the model\n",
        "print(\"\\nEvaluating the model on the test set...\")\n",
        "y_pred = model.predict(X_test)\n",
        "\n",
        "print(\"\\nConfusion Matrix:\")\n",
        "print(confusion_matrix(y_test, y_pred))\n",
        "\n",
        "print(\"\\nClassification Report:\")\n",
        "print(classification_report(y_test, y_pred))"
      ],
      "metadata": {
        "colab": {
          "base_uri": "https://localhost:8080/"
        },
        "id": "iCJGBL6wQnoM",
        "outputId": "edfc71e4-6b9c-4d95-91a0-830890dcf644"
      },
      "execution_count": 55,
      "outputs": [
        {
          "output_type": "stream",
          "name": "stdout",
          "text": [
            "\n",
            "Evaluating the model on the test set...\n",
            "\n",
            "Confusion Matrix:\n",
            "[[1 0]\n",
            " [0 1]]\n",
            "\n",
            "Classification Report:\n",
            "              precision    recall  f1-score   support\n",
            "\n",
            "           0       1.00      1.00      1.00         1\n",
            "           1       1.00      1.00      1.00         1\n",
            "\n",
            "    accuracy                           1.00         2\n",
            "   macro avg       1.00      1.00      1.00         2\n",
            "weighted avg       1.00      1.00      1.00         2\n",
            "\n"
          ]
        }
      ]
    }
  ]
}